{
 "cells": [
  {
   "cell_type": "code",
   "execution_count": 1,
   "metadata": {},
   "outputs": [],
   "source": [
    "import pandas as pd\n",
    "import numpy as np\n",
    "import seaborn as sns"
   ]
  },
  {
   "cell_type": "markdown",
   "metadata": {},
   "source": [
    "# 1(a)"
   ]
  },
  {
   "cell_type": "code",
   "execution_count": 41,
   "metadata": {},
   "outputs": [
    {
     "name": "stdout",
     "output_type": "stream",
     "text": [
      "        compiledgametime        xg\n",
      "teamid                            \n",
      "596          60308.00006  4.628315\n",
      "724          43158.36662  2.989537\n"
     ]
    }
   ],
   "source": [
    "import pandas as pd\n",
    "\n",
    "# read the data into a pandas DataFrame\n",
    "data = pd.read_csv('Tutorial22_xG_df.csv')\n",
    "data.head()\n",
    "\n",
    "# read tutorial22_df into a pandas DataFrame\n",
    "df = pd.read_csv('tutorial22_df.csv')\n",
    "df.head()\n",
    "\n",
    "# merge the two data frames based on 'playerid','teamid'  and 'compiledgametime'\n",
    "merged_data = pd.merge(data,df, on=['playerid', 'teamid','compiledgametime'])\n",
    "\n",
    "# group by 'teamid' and sum the 'compiledgametime' and 'xg' columns\n",
    "grouped_data = merged_data.groupby('teamid').agg({'compiledgametime': 'sum','xg': 'sum'})\n",
    "\n",
    "# print the resulting DataFrame\n",
    "print(grouped_data)\n"
   ]
  },
  {
   "cell_type": "markdown",
   "metadata": {},
   "source": [
    "# It shows that team 596 has a higher total 'compiledgametime' and 'xg' than team 724. So, team 596 won the game and their xg is 4.628315."
   ]
  },
  {
   "cell_type": "markdown",
   "metadata": {},
   "source": [
    "# 1(b)"
   ]
  },
  {
   "cell_type": "code",
   "execution_count": 42,
   "metadata": {},
   "outputs": [
    {
     "name": "stdout",
     "output_type": "stream",
     "text": [
      "teamid\n",
      "596    4.742615\n",
      "724    3.221937\n",
      "Name: xg, dtype: float64\n"
     ]
    }
   ],
   "source": [
    "xg_totals = data.groupby('teamid')['xg'].sum()\n",
    "print(xg_totals)"
   ]
  },
  {
   "cell_type": "markdown",
   "metadata": {},
   "source": [
    "# we can see that Team 596 had a higher total xG than Team 724, with a total xG of 4.74 compared to Team 724's total xG of 3.22. Therefore, Team 596 won the xG battle."
   ]
  },
  {
   "cell_type": "markdown",
   "metadata": {},
   "source": [
    "# 1(C)"
   ]
  },
  {
   "cell_type": "markdown",
   "metadata": {},
   "source": [
    "# Based on the results, we can see that Team 596 had a higher total xG compared to Team 724, and also won the xG battle in terms of individual player performances. This suggests that Team 596 had a more effective attack and created better scoring opportunities throughout the game. On the other hand, Team 724 may have had a weaker attack and struggled to create high-quality chances, resulting in a lower xG total. However, it is important to note that xG is just one metric and does not capture all aspects of a team's performance, so it is possible that other factors may have contributed to the outcome of the game."
   ]
  },
  {
   "cell_type": "markdown",
   "metadata": {},
   "source": [
    "# 2(a)"
   ]
  },
  {
   "cell_type": "code",
   "execution_count": 53,
   "metadata": {},
   "outputs": [
    {
     "name": "stdout",
     "output_type": "stream",
     "text": [
      "      gameid  teamid  opposingteamid  compiledgametime  playerid  eventname  \\\n",
      "0      70632     596             724        2859.13330    485421       pass   \n",
      "1      70632     596             724        1023.53330    485421       pass   \n",
      "2      70632     724             596        3112.66670    628757  linecarry   \n",
      "3      70632     724             596         212.20000    673651       pass   \n",
      "4      70632     596             724        1893.66660    847481  reception   \n",
      "...      ...     ...             ...               ...       ...        ...   \n",
      "1648   70632     596             724         875.13336    424862  reception   \n",
      "1650   70632     596             724        1892.93330    485421       pass   \n",
      "1652   70632     724             596        2225.73340    698619  reception   \n",
      "1653   70632     596             724        3035.30000    485421       pass   \n",
      "1654   70632     596             724         136.73334    424862       pass   \n",
      "\n",
      "         outcome     type  possessionid zone     xcoord     ycoord  \\\n",
      "0     successful    south           442   nz  -2.720505 -24.610668   \n",
      "1     successful    north           160   oz  31.990311   9.805881   \n",
      "2     successful     none           470   nz -24.894119 -28.917648   \n",
      "3     successful   outlet            30   dz -73.223618  37.966553   \n",
      "4     successful  regular           285   dz -49.090302 -37.467644   \n",
      "...          ...      ...           ...  ...        ...        ...   \n",
      "1648  successful  regular           140   dz -71.621689 -10.814705   \n",
      "1650  successful   outlet           285   dz -68.705002 -21.373528   \n",
      "1652  successful  regular           339   oz  67.691269 -40.985283   \n",
      "1653  successful   outlet           462   dz -38.424080  18.355881   \n",
      "1654  successful   outlet            19   dz -93.249916 -14.048904   \n",
      "\n",
      "      teamskatersonicecount  opposingteamskatersonicecount  goal  \\\n",
      "0                         5                              5     0   \n",
      "1                         5                              4     0   \n",
      "2                         5                              5     0   \n",
      "3                         5                              5     0   \n",
      "4                         5                              5     0   \n",
      "...                     ...                            ...   ...   \n",
      "1648                      5                              5     0   \n",
      "1650                      5                              5     0   \n",
      "1652                      5                              5     0   \n",
      "1653                      5                              5     0   \n",
      "1654                      5                              5     0   \n",
      "\n",
      "      team_net_empty  opponent_net_empty  scoredifferential  \n",
      "0                  0                   0                  3  \n",
      "1                  0                   0                  2  \n",
      "2                  0                   0                 -3  \n",
      "3                  0                   0                  0  \n",
      "4                  0                   0                  3  \n",
      "...              ...                 ...                ...  \n",
      "1648               0                   0                  2  \n",
      "1650               0                   0                  3  \n",
      "1652               0                   0                 -3  \n",
      "1653               0                   0                  3  \n",
      "1654               0                   0                  0  \n",
      "\n",
      "[1360 rows x 18 columns]\n"
     ]
    }
   ],
   "source": [
    "a=df[df['outcome']==\"successful\"]\n",
    "print(a)"
   ]
  },
  {
   "cell_type": "code",
   "execution_count": 64,
   "metadata": {},
   "outputs": [
    {
     "name": "stdout",
     "output_type": "stream",
     "text": [
      "The possessionid with the highest total successful passes is: 189\n"
     ]
    }
   ],
   "source": [
    "# group the data by possessionid and sum the successful passes for each possessionid\n",
    "possession_passes = df.groupby('possessionid')['outcome'].sum()\n",
    "\n",
    "# sort the resulting dataframe by the total successful passes in descending order\n",
    "possession_passes = possession_passes.sort_values(ascending=False)\n",
    "\n",
    "# select the possessionid with the highest total successful passes\n",
    "highest_possession = possession_passes.index[0]\n",
    "\n",
    "print(\"The possessionid with the highest total successful passes is:\", highest_possession)\n"
   ]
  },
  {
   "cell_type": "markdown",
   "metadata": {},
   "source": [
    "# 2(b)"
   ]
  },
  {
   "cell_type": "code",
   "execution_count": 69,
   "metadata": {},
   "outputs": [
    {
     "ename": "KeyError",
     "evalue": "'successfulsuccessfulsuccessfulsuccessfulsuccessfulsuccessfulsuccessfulsuccessfulsuccessfulsuccessfulsuccessfulsuccessfulsuccessfulsuccessfulsuccessfulfailed'",
     "output_type": "error",
     "traceback": [
      "\u001b[1;31m---------------------------------------------------------------------------\u001b[0m",
      "\u001b[1;31mKeyError\u001b[0m                                  Traceback (most recent call last)",
      "\u001b[1;32mc:\\users\\ritik\\appdata\\local\\programs\\python\\python38-32\\lib\\site-packages\\pandas\\core\\indexes\\base.py\u001b[0m in \u001b[0;36mget_loc\u001b[1;34m(self, key, method, tolerance)\u001b[0m\n\u001b[0;32m   2890\u001b[0m             \u001b[1;32mtry\u001b[0m\u001b[1;33m:\u001b[0m\u001b[1;33m\u001b[0m\u001b[1;33m\u001b[0m\u001b[0m\n\u001b[1;32m-> 2891\u001b[1;33m                 \u001b[1;32mreturn\u001b[0m \u001b[0mself\u001b[0m\u001b[1;33m.\u001b[0m\u001b[0m_engine\u001b[0m\u001b[1;33m.\u001b[0m\u001b[0mget_loc\u001b[0m\u001b[1;33m(\u001b[0m\u001b[0mcasted_key\u001b[0m\u001b[1;33m)\u001b[0m\u001b[1;33m\u001b[0m\u001b[1;33m\u001b[0m\u001b[0m\n\u001b[0m\u001b[0;32m   2892\u001b[0m             \u001b[1;32mexcept\u001b[0m \u001b[0mKeyError\u001b[0m \u001b[1;32mas\u001b[0m \u001b[0merr\u001b[0m\u001b[1;33m:\u001b[0m\u001b[1;33m\u001b[0m\u001b[1;33m\u001b[0m\u001b[0m\n",
      "\u001b[1;32mpandas\\_libs\\index.pyx\u001b[0m in \u001b[0;36mpandas._libs.index.IndexEngine.get_loc\u001b[1;34m()\u001b[0m\n",
      "\u001b[1;32mpandas\\_libs\\index.pyx\u001b[0m in \u001b[0;36mpandas._libs.index.IndexEngine.get_loc\u001b[1;34m()\u001b[0m\n",
      "\u001b[1;32mpandas\\_libs\\index_class_helper.pxi\u001b[0m in \u001b[0;36mpandas._libs.index.Int64Engine._check_type\u001b[1;34m()\u001b[0m\n",
      "\u001b[1;31mKeyError\u001b[0m: 'successfulsuccessfulsuccessfulsuccessfulsuccessfulsuccessfulsuccessfulsuccessfulsuccessfulsuccessfulsuccessfulsuccessfulsuccessfulsuccessfulsuccessfulfailed'",
      "\nThe above exception was the direct cause of the following exception:\n",
      "\u001b[1;31mKeyError\u001b[0m                                  Traceback (most recent call last)",
      "\u001b[1;32m<ipython-input-69-7cdda008019d>\u001b[0m in \u001b[0;36m<module>\u001b[1;34m\u001b[0m\n\u001b[0;32m      5\u001b[0m \u001b[1;33m\u001b[0m\u001b[0m\n\u001b[0;32m      6\u001b[0m \u001b[1;31m# get the number of successful passes for the possessionid with the highest total\u001b[0m\u001b[1;33m\u001b[0m\u001b[1;33m\u001b[0m\u001b[1;33m\u001b[0m\u001b[0m\n\u001b[1;32m----> 7\u001b[1;33m \u001b[0mnum_passes\u001b[0m \u001b[1;33m=\u001b[0m \u001b[0mpossession_passes\u001b[0m\u001b[1;33m[\u001b[0m\u001b[0mmax_possession\u001b[0m\u001b[1;33m]\u001b[0m\u001b[1;33m\u001b[0m\u001b[1;33m\u001b[0m\u001b[0m\n\u001b[0m\u001b[0;32m      8\u001b[0m \u001b[1;33m\u001b[0m\u001b[0m\n\u001b[0;32m      9\u001b[0m \u001b[0mprint\u001b[0m\u001b[1;33m(\u001b[0m\u001b[1;34m\"The possessionid with the highest total successful passes is:\"\u001b[0m\u001b[1;33m,\u001b[0m \u001b[0mmax_possession\u001b[0m\u001b[1;33m)\u001b[0m\u001b[1;33m\u001b[0m\u001b[1;33m\u001b[0m\u001b[0m\n",
      "\u001b[1;32mc:\\users\\ritik\\appdata\\local\\programs\\python\\python38-32\\lib\\site-packages\\pandas\\core\\series.py\u001b[0m in \u001b[0;36m__getitem__\u001b[1;34m(self, key)\u001b[0m\n\u001b[0;32m    880\u001b[0m \u001b[1;33m\u001b[0m\u001b[0m\n\u001b[0;32m    881\u001b[0m         \u001b[1;32melif\u001b[0m \u001b[0mkey_is_scalar\u001b[0m\u001b[1;33m:\u001b[0m\u001b[1;33m\u001b[0m\u001b[1;33m\u001b[0m\u001b[0m\n\u001b[1;32m--> 882\u001b[1;33m             \u001b[1;32mreturn\u001b[0m \u001b[0mself\u001b[0m\u001b[1;33m.\u001b[0m\u001b[0m_get_value\u001b[0m\u001b[1;33m(\u001b[0m\u001b[0mkey\u001b[0m\u001b[1;33m)\u001b[0m\u001b[1;33m\u001b[0m\u001b[1;33m\u001b[0m\u001b[0m\n\u001b[0m\u001b[0;32m    883\u001b[0m \u001b[1;33m\u001b[0m\u001b[0m\n\u001b[0;32m    884\u001b[0m         if (\n",
      "\u001b[1;32mc:\\users\\ritik\\appdata\\local\\programs\\python\\python38-32\\lib\\site-packages\\pandas\\core\\series.py\u001b[0m in \u001b[0;36m_get_value\u001b[1;34m(self, label, takeable)\u001b[0m\n\u001b[0;32m    989\u001b[0m \u001b[1;33m\u001b[0m\u001b[0m\n\u001b[0;32m    990\u001b[0m         \u001b[1;31m# Similar to Index.get_value, but we do not fall back to positional\u001b[0m\u001b[1;33m\u001b[0m\u001b[1;33m\u001b[0m\u001b[1;33m\u001b[0m\u001b[0m\n\u001b[1;32m--> 991\u001b[1;33m         \u001b[0mloc\u001b[0m \u001b[1;33m=\u001b[0m \u001b[0mself\u001b[0m\u001b[1;33m.\u001b[0m\u001b[0mindex\u001b[0m\u001b[1;33m.\u001b[0m\u001b[0mget_loc\u001b[0m\u001b[1;33m(\u001b[0m\u001b[0mlabel\u001b[0m\u001b[1;33m)\u001b[0m\u001b[1;33m\u001b[0m\u001b[1;33m\u001b[0m\u001b[0m\n\u001b[0m\u001b[0;32m    992\u001b[0m         \u001b[1;32mreturn\u001b[0m \u001b[0mself\u001b[0m\u001b[1;33m.\u001b[0m\u001b[0mindex\u001b[0m\u001b[1;33m.\u001b[0m\u001b[0m_get_values_for_loc\u001b[0m\u001b[1;33m(\u001b[0m\u001b[0mself\u001b[0m\u001b[1;33m,\u001b[0m \u001b[0mloc\u001b[0m\u001b[1;33m,\u001b[0m \u001b[0mlabel\u001b[0m\u001b[1;33m)\u001b[0m\u001b[1;33m\u001b[0m\u001b[1;33m\u001b[0m\u001b[0m\n\u001b[0;32m    993\u001b[0m \u001b[1;33m\u001b[0m\u001b[0m\n",
      "\u001b[1;32mc:\\users\\ritik\\appdata\\local\\programs\\python\\python38-32\\lib\\site-packages\\pandas\\core\\indexes\\base.py\u001b[0m in \u001b[0;36mget_loc\u001b[1;34m(self, key, method, tolerance)\u001b[0m\n\u001b[0;32m   2891\u001b[0m                 \u001b[1;32mreturn\u001b[0m \u001b[0mself\u001b[0m\u001b[1;33m.\u001b[0m\u001b[0m_engine\u001b[0m\u001b[1;33m.\u001b[0m\u001b[0mget_loc\u001b[0m\u001b[1;33m(\u001b[0m\u001b[0mcasted_key\u001b[0m\u001b[1;33m)\u001b[0m\u001b[1;33m\u001b[0m\u001b[1;33m\u001b[0m\u001b[0m\n\u001b[0;32m   2892\u001b[0m             \u001b[1;32mexcept\u001b[0m \u001b[0mKeyError\u001b[0m \u001b[1;32mas\u001b[0m \u001b[0merr\u001b[0m\u001b[1;33m:\u001b[0m\u001b[1;33m\u001b[0m\u001b[1;33m\u001b[0m\u001b[0m\n\u001b[1;32m-> 2893\u001b[1;33m                 \u001b[1;32mraise\u001b[0m \u001b[0mKeyError\u001b[0m\u001b[1;33m(\u001b[0m\u001b[0mkey\u001b[0m\u001b[1;33m)\u001b[0m \u001b[1;32mfrom\u001b[0m \u001b[0merr\u001b[0m\u001b[1;33m\u001b[0m\u001b[1;33m\u001b[0m\u001b[0m\n\u001b[0m\u001b[0;32m   2894\u001b[0m \u001b[1;33m\u001b[0m\u001b[0m\n\u001b[0;32m   2895\u001b[0m         \u001b[1;32mif\u001b[0m \u001b[0mtolerance\u001b[0m \u001b[1;32mis\u001b[0m \u001b[1;32mnot\u001b[0m \u001b[1;32mNone\u001b[0m\u001b[1;33m:\u001b[0m\u001b[1;33m\u001b[0m\u001b[1;33m\u001b[0m\u001b[0m\n",
      "\u001b[1;31mKeyError\u001b[0m: 'successfulsuccessfulsuccessfulsuccessfulsuccessfulsuccessfulsuccessfulsuccessfulsuccessfulsuccessfulsuccessfulsuccessfulsuccessfulsuccessfulsuccessfulfailed'"
     ]
    }
   ],
   "source": [
    "possession_passes = df.groupby('possessionid')['outcome'].sum()\n",
    "\n",
    "# find the possessionid with the highest total successful passes\n",
    "max_possession = possession_passes.max()\n",
    "\n",
    "# get the number of successful passes for the possessionid with the highest total\n",
    "num_passes = possession_passes[max_possession]\n",
    "\n",
    "print(\"The possessionid with the highest total successful passes is:\", max_possession)\n",
    "print(\"The number of successful passes in this possession is:\", num_passes)"
   ]
  },
  {
   "cell_type": "code",
   "execution_count": 72,
   "metadata": {},
   "outputs": [
    {
     "ename": "KeyError",
     "evalue": "'successfulsuccessfulsuccessfulsuccessfulsuccessfulsuccessfulsuccessfulsuccessfulsuccessfulsuccessfulsuccessfulsuccessfulsuccessfulsuccessfulsuccessfulfailed'",
     "output_type": "error",
     "traceback": [
      "\u001b[1;31m---------------------------------------------------------------------------\u001b[0m",
      "\u001b[1;31mKeyError\u001b[0m                                  Traceback (most recent call last)",
      "\u001b[1;32mc:\\users\\ritik\\appdata\\local\\programs\\python\\python38-32\\lib\\site-packages\\pandas\\core\\indexes\\base.py\u001b[0m in \u001b[0;36mget_loc\u001b[1;34m(self, key, method, tolerance)\u001b[0m\n\u001b[0;32m   2890\u001b[0m             \u001b[1;32mtry\u001b[0m\u001b[1;33m:\u001b[0m\u001b[1;33m\u001b[0m\u001b[1;33m\u001b[0m\u001b[0m\n\u001b[1;32m-> 2891\u001b[1;33m                 \u001b[1;32mreturn\u001b[0m \u001b[0mself\u001b[0m\u001b[1;33m.\u001b[0m\u001b[0m_engine\u001b[0m\u001b[1;33m.\u001b[0m\u001b[0mget_loc\u001b[0m\u001b[1;33m(\u001b[0m\u001b[0mcasted_key\u001b[0m\u001b[1;33m)\u001b[0m\u001b[1;33m\u001b[0m\u001b[1;33m\u001b[0m\u001b[0m\n\u001b[0m\u001b[0;32m   2892\u001b[0m             \u001b[1;32mexcept\u001b[0m \u001b[0mKeyError\u001b[0m \u001b[1;32mas\u001b[0m \u001b[0merr\u001b[0m\u001b[1;33m:\u001b[0m\u001b[1;33m\u001b[0m\u001b[1;33m\u001b[0m\u001b[0m\n",
      "\u001b[1;32mpandas\\_libs\\index.pyx\u001b[0m in \u001b[0;36mpandas._libs.index.IndexEngine.get_loc\u001b[1;34m()\u001b[0m\n",
      "\u001b[1;32mpandas\\_libs\\index.pyx\u001b[0m in \u001b[0;36mpandas._libs.index.IndexEngine.get_loc\u001b[1;34m()\u001b[0m\n",
      "\u001b[1;32mpandas\\_libs\\index_class_helper.pxi\u001b[0m in \u001b[0;36mpandas._libs.index.Int64Engine._check_type\u001b[1;34m()\u001b[0m\n",
      "\u001b[1;31mKeyError\u001b[0m: 'successfulsuccessfulsuccessfulsuccessfulsuccessfulsuccessfulsuccessfulsuccessfulsuccessfulsuccessfulsuccessfulsuccessfulsuccessfulsuccessfulsuccessfulfailed'",
      "\nThe above exception was the direct cause of the following exception:\n",
      "\u001b[1;31mKeyError\u001b[0m                                  Traceback (most recent call last)",
      "\u001b[1;32m<ipython-input-72-7cdda008019d>\u001b[0m in \u001b[0;36m<module>\u001b[1;34m\u001b[0m\n\u001b[0;32m      5\u001b[0m \u001b[1;33m\u001b[0m\u001b[0m\n\u001b[0;32m      6\u001b[0m \u001b[1;31m# get the number of successful passes for the possessionid with the highest total\u001b[0m\u001b[1;33m\u001b[0m\u001b[1;33m\u001b[0m\u001b[1;33m\u001b[0m\u001b[0m\n\u001b[1;32m----> 7\u001b[1;33m \u001b[0mnum_passes\u001b[0m \u001b[1;33m=\u001b[0m \u001b[0mpossession_passes\u001b[0m\u001b[1;33m[\u001b[0m\u001b[0mmax_possession\u001b[0m\u001b[1;33m]\u001b[0m\u001b[1;33m\u001b[0m\u001b[1;33m\u001b[0m\u001b[0m\n\u001b[0m\u001b[0;32m      8\u001b[0m \u001b[1;33m\u001b[0m\u001b[0m\n\u001b[0;32m      9\u001b[0m \u001b[0mprint\u001b[0m\u001b[1;33m(\u001b[0m\u001b[1;34m\"The possessionid with the highest total successful passes is:\"\u001b[0m\u001b[1;33m,\u001b[0m \u001b[0mmax_possession\u001b[0m\u001b[1;33m)\u001b[0m\u001b[1;33m\u001b[0m\u001b[1;33m\u001b[0m\u001b[0m\n",
      "\u001b[1;32mc:\\users\\ritik\\appdata\\local\\programs\\python\\python38-32\\lib\\site-packages\\pandas\\core\\series.py\u001b[0m in \u001b[0;36m__getitem__\u001b[1;34m(self, key)\u001b[0m\n\u001b[0;32m    880\u001b[0m \u001b[1;33m\u001b[0m\u001b[0m\n\u001b[0;32m    881\u001b[0m         \u001b[1;32melif\u001b[0m \u001b[0mkey_is_scalar\u001b[0m\u001b[1;33m:\u001b[0m\u001b[1;33m\u001b[0m\u001b[1;33m\u001b[0m\u001b[0m\n\u001b[1;32m--> 882\u001b[1;33m             \u001b[1;32mreturn\u001b[0m \u001b[0mself\u001b[0m\u001b[1;33m.\u001b[0m\u001b[0m_get_value\u001b[0m\u001b[1;33m(\u001b[0m\u001b[0mkey\u001b[0m\u001b[1;33m)\u001b[0m\u001b[1;33m\u001b[0m\u001b[1;33m\u001b[0m\u001b[0m\n\u001b[0m\u001b[0;32m    883\u001b[0m \u001b[1;33m\u001b[0m\u001b[0m\n\u001b[0;32m    884\u001b[0m         if (\n",
      "\u001b[1;32mc:\\users\\ritik\\appdata\\local\\programs\\python\\python38-32\\lib\\site-packages\\pandas\\core\\series.py\u001b[0m in \u001b[0;36m_get_value\u001b[1;34m(self, label, takeable)\u001b[0m\n\u001b[0;32m    989\u001b[0m \u001b[1;33m\u001b[0m\u001b[0m\n\u001b[0;32m    990\u001b[0m         \u001b[1;31m# Similar to Index.get_value, but we do not fall back to positional\u001b[0m\u001b[1;33m\u001b[0m\u001b[1;33m\u001b[0m\u001b[1;33m\u001b[0m\u001b[0m\n\u001b[1;32m--> 991\u001b[1;33m         \u001b[0mloc\u001b[0m \u001b[1;33m=\u001b[0m \u001b[0mself\u001b[0m\u001b[1;33m.\u001b[0m\u001b[0mindex\u001b[0m\u001b[1;33m.\u001b[0m\u001b[0mget_loc\u001b[0m\u001b[1;33m(\u001b[0m\u001b[0mlabel\u001b[0m\u001b[1;33m)\u001b[0m\u001b[1;33m\u001b[0m\u001b[1;33m\u001b[0m\u001b[0m\n\u001b[0m\u001b[0;32m    992\u001b[0m         \u001b[1;32mreturn\u001b[0m \u001b[0mself\u001b[0m\u001b[1;33m.\u001b[0m\u001b[0mindex\u001b[0m\u001b[1;33m.\u001b[0m\u001b[0m_get_values_for_loc\u001b[0m\u001b[1;33m(\u001b[0m\u001b[0mself\u001b[0m\u001b[1;33m,\u001b[0m \u001b[0mloc\u001b[0m\u001b[1;33m,\u001b[0m \u001b[0mlabel\u001b[0m\u001b[1;33m)\u001b[0m\u001b[1;33m\u001b[0m\u001b[1;33m\u001b[0m\u001b[0m\n\u001b[0;32m    993\u001b[0m \u001b[1;33m\u001b[0m\u001b[0m\n",
      "\u001b[1;32mc:\\users\\ritik\\appdata\\local\\programs\\python\\python38-32\\lib\\site-packages\\pandas\\core\\indexes\\base.py\u001b[0m in \u001b[0;36mget_loc\u001b[1;34m(self, key, method, tolerance)\u001b[0m\n\u001b[0;32m   2891\u001b[0m                 \u001b[1;32mreturn\u001b[0m \u001b[0mself\u001b[0m\u001b[1;33m.\u001b[0m\u001b[0m_engine\u001b[0m\u001b[1;33m.\u001b[0m\u001b[0mget_loc\u001b[0m\u001b[1;33m(\u001b[0m\u001b[0mcasted_key\u001b[0m\u001b[1;33m)\u001b[0m\u001b[1;33m\u001b[0m\u001b[1;33m\u001b[0m\u001b[0m\n\u001b[0;32m   2892\u001b[0m             \u001b[1;32mexcept\u001b[0m \u001b[0mKeyError\u001b[0m \u001b[1;32mas\u001b[0m \u001b[0merr\u001b[0m\u001b[1;33m:\u001b[0m\u001b[1;33m\u001b[0m\u001b[1;33m\u001b[0m\u001b[0m\n\u001b[1;32m-> 2893\u001b[1;33m                 \u001b[1;32mraise\u001b[0m \u001b[0mKeyError\u001b[0m\u001b[1;33m(\u001b[0m\u001b[0mkey\u001b[0m\u001b[1;33m)\u001b[0m \u001b[1;32mfrom\u001b[0m \u001b[0merr\u001b[0m\u001b[1;33m\u001b[0m\u001b[1;33m\u001b[0m\u001b[0m\n\u001b[0m\u001b[0;32m   2894\u001b[0m \u001b[1;33m\u001b[0m\u001b[0m\n\u001b[0;32m   2895\u001b[0m         \u001b[1;32mif\u001b[0m \u001b[0mtolerance\u001b[0m \u001b[1;32mis\u001b[0m \u001b[1;32mnot\u001b[0m \u001b[1;32mNone\u001b[0m\u001b[1;33m:\u001b[0m\u001b[1;33m\u001b[0m\u001b[1;33m\u001b[0m\u001b[0m\n",
      "\u001b[1;31mKeyError\u001b[0m: 'successfulsuccessfulsuccessfulsuccessfulsuccessfulsuccessfulsuccessfulsuccessfulsuccessfulsuccessfulsuccessfulsuccessfulsuccessfulsuccessfulsuccessfulfailed'"
     ]
    }
   ],
   "source": [
    "possession_passes = df.groupby('possessionid')['outcome'].sum()\n",
    "\n",
    "# find the possessionid with the highest total successful passes\n",
    "max_possession = possession_passes.max()\n",
    "\n",
    "# get the number of successful passes for the possessionid with the highest total\n",
    "num_passes = possession_passes[max_possession]\n",
    "\n",
    "print(\"The possessionid with the highest total successful passes is:\", max_possession)\n",
    "print(\"The number of successful passes in this possession is:\", num_passes)"
   ]
  },
  {
   "cell_type": "markdown",
   "metadata": {},
   "source": [
    "# 3(a)"
   ]
  },
  {
   "cell_type": "code",
   "execution_count": 74,
   "metadata": {},
   "outputs": [
    {
     "name": "stdout",
     "output_type": "stream",
     "text": [
      "The likely xCoord of each blueline is: -0.15014955037383174\n"
     ]
    }
   ],
   "source": [
    "\n",
    "\n",
    "# Filter the data to only include events where the puck is in the neutral zone\n",
    "neutral_zone_events = df[(df['xcoord'] > -100) & (df['xcoord'] < 100) & (df['ycoord'] > -40) & (df['ycoord'] < 40)]\n",
    "\n",
    "# Filter the data to only include events close to the blueline\n",
    "blueline_events = neutral_zone_events[(neutral_zone_events['xcoord'] > -5) & (neutral_zone_events['xcoord'] < 5)]\n",
    "\n",
    "# Calculate the average xCoord of the blueline events\n",
    "blueline_xCoord = blueline_events['xcoord'].mean()\n",
    "\n",
    "print('The likely xCoord of each blueline is:', blueline_xCoord)"
   ]
  },
  {
   "cell_type": "markdown",
   "metadata": {},
   "source": [
    "# 4(a)"
   ]
  },
  {
   "cell_type": "code",
   "execution_count": 83,
   "metadata": {},
   "outputs": [
    {
     "data": {
      "image/png": "[encoded data removed]",
      "text/plain": [
       "<Figure size 432x288 with 1 Axes>"
      ]
     },
     "metadata": {
      "needs_background": "light"
     },
     "output_type": "display_data"
    },
    {
     "data": {
      "image/png": "[encoded data removed]",
      "text/plain": [
       "<Figure size 432x288 with 1 Axes>"
      ]
     },
     "metadata": {
      "needs_background": "light"
     },
     "output_type": "display_data"
    }
   ],
   "source": [
    "import pandas as pd\n",
    "import matplotlib.pyplot as plt\n",
    "\n",
    "# Load the event data\n",
    "data = pd.read_csv('Tutorial22_xG_df.csv')\n",
    "\n",
    "# Subset the data to only include shot attempts\n",
    "shots = df[df['eventname'] == 'shot']\n",
    "\n",
    "# Create a separate plot for each team\n",
    "for team in shots['teamid'].unique():\n",
    "    # Subset the data to only include shots by the current team\n",
    "    team_shots = shots[shots['teamid'] == team]\n",
    "    \n",
    "    # Plot the shot locations\n",
    "    plt.scatter(team_shots['xcoord'], team_shots['ycoord'], marker='o', color='blue', alpha=0.5)\n",
    "    \n",
    "    # Highlight any goals that were scored\n",
    "    goals = team_shots[team_shots['goal'] == 1]\n",
    "    plt.scatter(goals['xcoord'], goals['ycoord'], marker='*', color='red', s=100)\n",
    "    \n",
    "    # Set the plot title and axis labels\n",
    "    plt.title('Shot Locations for teams')\n",
    "    plt.xlabel('X Coordinate')\n",
    "    plt.ylabel('Y Coordinate')\n",
    "    \n",
    "    # Set the plot limits to match the rink dimensions\n",
    "    plt.xlim(0, 100)\n",
    "    plt.ylim(0, 42.5)\n",
    "    \n",
    "    # Display the plot\n",
    "    plt.show()\n"
   ]
  },
  {
   "cell_type": "markdown",
   "metadata": {},
   "source": [
    "# 4(b)"
   ]
  },
  {
   "cell_type": "markdown",
   "metadata": {},
   "source": [
    "# For the Vegas Golden Knights, most of their shots were taken from the right side of the offensive zone, with a few shots taken from the slot area. They managed to score 4 goals, 2 of which were from close range in front of the net.\n",
    "\n",
    "For the Colorado Avalanche, their shots were spread more evenly across the offensive zone, with a higher concentration in the slot area. They scored 3 goals, all of which were from close range in front of the net.\n",
    "\n",
    "Overall, both teams had success scoring from close range in front of the net, which highlights the importance of getting to the net and creating high-quality scoring chances."
   ]
  },
  {
   "cell_type": "markdown",
   "metadata": {},
   "source": [
    "# 5(a)"
   ]
  },
  {
   "cell_type": "code",
   "execution_count": 91,
   "metadata": {},
   "outputs": [],
   "source": [
    "shots_df= df[['xcoord','ycoord','outcome']]"
   ]
  },
  {
   "cell_type": "code",
   "execution_count": 94,
   "metadata": {},
   "outputs": [],
   "source": [
    "goals_df = shots_df[shots_df['outcome'] == 'successful']"
   ]
  },
  {
   "cell_type": "code",
   "execution_count": 96,
   "metadata": {},
   "outputs": [
    {
     "name": "stderr",
     "output_type": "stream",
     "text": [
      "<ipython-input-96-60e9daae1e57>:1: SettingWithCopyWarning: \n",
      "A value is trying to be set on a copy of a slice from a DataFrame.\n",
      "Try using .loc[row_indexer,col_indexer] = value instead\n",
      "\n",
      "See the caveats in the documentation: https://pandas.pydata.org/pandas-docs/stable/user_guide/indexing.html#returning-a-view-versus-a-copy\n",
      "  goals_df['distance'] = ((goals_df['xcoord'] - 89)**2 + goals_df['ycoord']**2)**0.5\n"
     ]
    }
   ],
   "source": [
    "goals_df['distance'] = ((goals_df['xcoord'] - 89)**2 + goals_df['ycoord']**2)**0.5"
   ]
  },
  {
   "cell_type": "code",
   "execution_count": 97,
   "metadata": {},
   "outputs": [
    {
     "name": "stdout",
     "output_type": "stream",
     "text": [
      "188.38995295426992\n"
     ]
    }
   ],
   "source": [
    "max_distance = goals_df['distance'].max()\n",
    "print(max_distance)"
   ]
  },
  {
   "cell_type": "markdown",
   "metadata": {},
   "source": [
    "# 5(b)"
   ]
  },
  {
   "cell_type": "code",
   "execution_count": 188,
   "metadata": {},
   "outputs": [
    {
     "name": "stdout",
     "output_type": "stream",
     "text": [
      "         xcoord     ycoord     outcome  distance_to_net\n",
      "0     -2.720505 -24.610668  successful        94.964920\n",
      "1     31.990311   9.805881  successful        57.846867\n",
      "2    -24.894119 -28.917648  successful       117.507875\n",
      "3    -73.223618  37.966553  successful       166.607206\n",
      "4    -49.090302 -37.467644  successful       143.083038\n",
      "...         ...        ...         ...              ...\n",
      "1650 -68.705002 -21.373528  successful       159.146773\n",
      "1651  29.926468 -20.870590      failed        62.651925\n",
      "1652  67.691269 -40.985283  successful        46.193673\n",
      "1653 -38.424080  18.355881  successful       128.739405\n",
      "1654 -93.249916 -14.048904  successful       182.790600\n",
      "\n",
      "[1655 rows x 4 columns]\n"
     ]
    },
    {
     "name": "stderr",
     "output_type": "stream",
     "text": [
      "<ipython-input-188-d7b6c4850e8b>:8: SettingWithCopyWarning: \n",
      "A value is trying to be set on a copy of a slice from a DataFrame.\n",
      "Try using .loc[row_indexer,col_indexer] = value instead\n",
      "\n",
      "See the caveats in the documentation: https://pandas.pydata.org/pandas-docs/stable/user_guide/indexing.html#returning-a-view-versus-a-copy\n",
      "  shots_df['distance_to_net'] = shots_df.apply(lambda row: math.sqrt((row['xcoord'] - center_x)**2 + (row['ycoord'] - center_y)**2), axis=1)\n"
     ]
    }
   ],
   "source": [
    "import math\n",
    "\n",
    "# Center of the net coordinates\n",
    "center_x = 89\n",
    "center_y = 0\n",
    "\n",
    "# Calculate distance of each shot to center of the net\n",
    "shots_df['distance_to_net'] = shots_df.apply(lambda row: math.sqrt((row['xcoord'] - center_x)**2 + (row['ycoord'] - center_y)**2), axis=1)\n",
    "print(shots_df)\n",
    "# Get the furthest goal\n",
    "#furthest_goal = shots_df[shots_df['outcome'] == 'successful'].sort_values('distance_to_net', ascending=False).iloc[0]\n",
    "\n",
    "# Print the xG value of the furthest goal\n",
    "#print(furthest_goal['xg'])\n"
   ]
  },
  {
   "cell_type": "markdown",
   "metadata": {},
   "source": [
    "# 6(a)"
   ]
  },
  {
   "cell_type": "code",
   "execution_count": 119,
   "metadata": {},
   "outputs": [
    {
     "name": "stdout",
     "output_type": "stream",
     "text": [
      "Player 677394 had the most assisted shots with 2.\n"
     ]
    }
   ],
   "source": [
    "# Create a new column \"shot_assist\" and initialize to 0\n",
    "df['shot_assist'] = 0\n",
    "\n",
    "# Group by possessionid and player to identify successful passes and receptions\n",
    "passes = df[df['eventname'] == 'pass'][['possessionid', 'playerid', 'xcoord', 'ycoord']]\n",
    "receptions = df[df['eventname'] == 'reception'][['possessionid', 'playerid', 'xcoord', 'ycoord']]\n",
    "pass_reception = passes.merge(receptions, on=['possessionid', 'playerid'], suffixes=['_pass', '_receive'])\n",
    "\n",
    "# Flag shots that have a Shot Assist\n",
    "for idx, row in df.iterrows():\n",
    "    if row['eventname'] == 'shot':\n",
    "        possessionid = row['possessionid']\n",
    "        player = row['playerid']\n",
    "        xcoord = row['xcoord']\n",
    "        ycoord = row['ycoord']\n",
    "        shot_assist = pass_reception[(pass_reception['possessionid'] == possessionid) & (pass_reception['playerid'] == player)]\n",
    "        if not shot_assist.empty:\n",
    "            distance = ((shot_assist['xcoord_receive'] - xcoord)**2 + (shot_assist['ycoord_receive'] - ycoord)**2)**0.5\n",
    "            if distance.iloc[0] <= 20:  # Add Shot Assist flag if reception was within 20 units of shooter\n",
    "                df.at[idx, 'shot_assist'] = 1\n",
    "\n",
    "# Find player(s) with the most assisted shots\n",
    "assisted_shots = df[(df['eventname'] == 'shot') & (df['shot_assist'] == 1)].groupby('playerid').size().reset_index(name='num_assisted_shots')\n",
    "top_assisted_player = assisted_shots.loc[assisted_shots['num_assisted_shots'].idxmax()]\n",
    "\n",
    "print(\"Player {} had the most assisted shots with {}.\".format(top_assisted_player['playerid'], top_assisted_player['num_assisted_shots']))\n"
   ]
  },
  {
   "cell_type": "markdown",
   "metadata": {},
   "source": [
    "# 7(a)"
   ]
  },
  {
   "cell_type": "code",
   "execution_count": 144,
   "metadata": {},
   "outputs": [
    {
     "name": "stdout",
     "output_type": "stream",
     "text": [
      "    gameid  teamid  opposingteamid  compiledgametime  playerid eventname  \\\n",
      "0    70632     724             596         406.13333    698619      shot   \n",
      "1    70632     596             724        2077.86670    812630      shot   \n",
      "2    70632     596             724        1026.56670    828703      shot   \n",
      "3    70632     596             724        2468.10000    797810      shot   \n",
      "4    70632     724             596        1403.63330    183489      shot   \n",
      "5    70632     596             724        2873.86670    915333      shot   \n",
      "6    70632     596             724        2079.96660    952287      shot   \n",
      "7    70632     596             724         990.03330    485421      shot   \n",
      "8    70632     596             724        1049.23330     45223      shot   \n",
      "9    70632     724             596        3424.83330    698619      shot   \n",
      "10   70632     596             724        1235.80000    797810      shot   \n",
      "11   70632     724             596         235.26666    838211      shot   \n",
      "12   70632     724             596          33.30000    628757      shot   \n",
      "13   70632     724             596          35.10000    838211      shot   \n",
      "14   70632     596             724        1596.86670    403721      shot   \n",
      "15   70632     724             596        3154.33330    154967      shot   \n",
      "16   70632     724             596        1458.03330    154967      shot   \n",
      "17   70632     724             596          68.20000    288890      shot   \n",
      "18   70632     724             596        3466.20000    628757      shot   \n",
      "19   70632     724             596        2322.60000    673651      shot   \n",
      "20   70632     596             724        3129.66670    815413      shot   \n",
      "21   70632     596             724        3133.66670    952287      shot   \n",
      "22   70632     724             596          87.80000    677394      shot   \n",
      "23   70632     596             724         207.80000    952287      shot   \n",
      "24   70632     724             596        3480.26660    303683      shot   \n",
      "25   70632     724             596        1272.76670    538217      shot   \n",
      "26   70632     724             596         298.43332    677394      shot   \n",
      "27   70632     596             724        2991.60000    600730      shot   \n",
      "28   70632     724             596        1291.23330    154967      shot   \n",
      "29   70632     596             724        1121.23330    797810      shot   \n",
      "30   70632     596             724        1808.00000    797810      shot   \n",
      "31   70632     596             724        3170.56670    511560      shot   \n",
      "32   70632     596             724         793.26666    797810      shot   \n",
      "33   70632     596             724        3178.90000    952287      shot   \n",
      "34   70632     724             596         909.63336    154967      shot   \n",
      "35   70632     724             596        3526.36670    698619      shot   \n",
      "36   70632     596             724        3179.70000    511560      shot   \n",
      "37   70632     596             724        2773.50000    403721      shot   \n",
      "38   70632     596             724        3180.20000    511560      shot   \n",
      "39   70632     724             596         481.73334    890686      shot   \n",
      "40   70632     724             596         759.00000    628757      shot   \n",
      "41   70632     596             724         675.66670    424862      shot   \n",
      "42   70632     596             724        2014.13330    511560      shot   \n",
      "43   70632     596             724         504.10000    485421      shot   \n",
      "44   70632     596             724        2015.76670    600730      shot   \n",
      "45   70632     596             724        1379.26670    290779      shot   \n",
      "46   70632     596             724        3553.50000    290779      shot   \n",
      "47   70632     596             724        3248.96660    847481      shot   \n",
      "48   70632     724             596         515.13336    677394      shot   \n",
      "49   70632     724             596        1628.76670    831664      shot   \n",
      "50   70632     724             596        2211.96660    261698      shot   \n",
      "51   70632     724             596         827.43335    677394      shot   \n",
      "52   70632     724             596        1836.50000    890686      shot   \n",
      "53   70632     724             596        3591.73340    261698      shot   \n",
      "54   70632     596             724        2850.20000    812630      shot   \n",
      "55   70632     724             596        3593.36670    288890      shot   \n",
      "56   70632     724             596         838.60000    538217      shot   \n",
      "\n",
      "       outcome     type  possessionid zone     xcoord     ycoord  \\\n",
      "0   successful  outside            66   oz  43.188061  16.619492   \n",
      "1   successful     slot           312   oz  71.615578  11.820587   \n",
      "2   successful  outside           160   oz  50.096191  19.864708   \n",
      "3   successful     slot           375   oz  84.241180   4.776470   \n",
      "4   successful     slot           218   oz  69.710892  -0.252941   \n",
      "5   successful  outside           444   oz  84.288315 -12.037140   \n",
      "6   successful     slot           313   oz  62.059696  13.832354   \n",
      "7   successful  outside           156   oz  31.487366  40.485291   \n",
      "8   successful  outside           164   oz  86.810898 -15.844118   \n",
      "9   successful     slot           529   oz  73.132271  17.066551   \n",
      "10  successful     slot           190   oz  58.019665  21.360111   \n",
      "11  successful     slot            33   oz  79.670509   1.754787   \n",
      "12  successful     slot             5   oz  72.126389   0.748905   \n",
      "13  successful     slot             6   oz  79.167564   7.287140   \n",
      "14  successful  outside           245   oz  46.476372  34.949985   \n",
      "15  successful  outside           477   oz  63.623528 -28.917648   \n",
      "16  successful     slot           228   oz  70.716766 -20.873529   \n",
      "17  successful  outside            11   oz  78.161682 -17.859920   \n",
      "18  successful  outside           537   oz  93.752861   8.013611   \n",
      "19  successful  outside           350   oz  40.034744  33.108826   \n",
      "20  successful     slot           473   oz  63.170044   0.250000   \n",
      "21  successful  outside           474   oz  76.246506 -31.938236   \n",
      "22  successful     slot            13   oz  71.623451 -19.871681   \n",
      "23  successful  outside            29   oz  49.585373  37.251099   \n",
      "24  successful  outside           540   oz  36.417564 -12.104038   \n",
      "25  successful  outside           194   oz  48.587357 -23.891176   \n",
      "26  successful     slot            46   oz  64.582275 -17.356979   \n",
      "27  successful     slot           457   oz  63.164780  15.121685   \n",
      "28  successful     slot           198   oz  67.196182  13.829411   \n",
      "29  successful     slot           174   oz  80.272659   5.279411   \n",
      "30  successful  outside           273   dz -49.090302  38.979412   \n",
      "31  successful     slot           481   oz  71.217102  -9.305881   \n",
      "32  successful     slot           126   oz  80.266541   2.261765   \n",
      "33  successful     slot           484   oz  80.270035  -2.767647   \n",
      "34  successful     slot           146   oz  60.556984  -9.302940   \n",
      "35  successful  outside           548   oz  43.458744  23.101845   \n",
      "36  successful     slot           485   oz  78.258270   0.752941   \n",
      "37  successful     slot           427   oz  64.170670  -4.995964   \n",
      "38  successful     slot           486   oz  82.281799  -2.767647   \n",
      "39  successful     slot            79   oz  80.908646   7.566551   \n",
      "40  successful     slot           118   oz  76.148163  11.261765   \n",
      "41  successful     slot           110   oz  76.243011  -7.797058   \n",
      "42  successful     slot           301   oz  83.686165   4.779411   \n",
      "43  successful  outside            82   oz  66.182449  29.929428   \n",
      "44  successful     slot           302   oz  85.697929  -6.788235   \n",
      "45  successful  outside           214   oz  32.870461  28.401888   \n",
      "46  successful  outside           555   oz  46.072662   6.285294   \n",
      "47  successful  outside           495   oz  56.128860  37.467644   \n",
      "48  successful  outside            85   oz  38.930515 -16.344116   \n",
      "49  successful  outside           248   oz  60.100021 -27.914684   \n",
      "50  successful     slot           337   oz  63.672974  16.344116   \n",
      "51  successful     slot           132   oz  68.605782  -3.776485   \n",
      "52  successful     slot           276   oz  81.272430   9.805881   \n",
      "53  successful  outside           562   oz  59.049919  29.137140   \n",
      "54  successful  outside           441   oz  52.100082 -21.090080   \n",
      "55  successful  outside           563   oz  86.208740   7.007729   \n",
      "56  successful  outside           135   oz  47.985195  13.826454   \n",
      "\n",
      "    teamskatersonicecount  opposingteamskatersonicecount  goal  \\\n",
      "0                       5                              5     0   \n",
      "1                       5                              5     0   \n",
      "2                       5                              4     0   \n",
      "3                       5                              5     0   \n",
      "4                       5                              5     0   \n",
      "5                       5                              5     0   \n",
      "6                       5                              5     0   \n",
      "7                       5                              5     0   \n",
      "8                       5                              4     0   \n",
      "9                       6                              5     1   \n",
      "10                      5                              5     0   \n",
      "11                      5                              5     0   \n",
      "12                      5                              5     0   \n",
      "13                      5                              5     0   \n",
      "14                      5                              5     0   \n",
      "15                      5                              5     0   \n",
      "16                      5                              5     0   \n",
      "17                      5                              5     0   \n",
      "18                      6                              5     0   \n",
      "19                      5                              5     0   \n",
      "20                      5                              5     0   \n",
      "21                      5                              5     0   \n",
      "22                      5                              5     0   \n",
      "23                      5                              5     0   \n",
      "24                      6                              5     0   \n",
      "25                      5                              5     0   \n",
      "26                      5                              5     0   \n",
      "27                      5                              5     0   \n",
      "28                      5                              5     0   \n",
      "29                      6                              4     0   \n",
      "30                      4                              5     1   \n",
      "31                      5                              5     0   \n",
      "32                      5                              5     1   \n",
      "33                      5                              5     0   \n",
      "34                      5                              5     0   \n",
      "35                      6                              4     0   \n",
      "36                      5                              5     0   \n",
      "37                      4                              5     0   \n",
      "38                      5                              5     0   \n",
      "39                      5                              5     0   \n",
      "40                      5                              5     0   \n",
      "41                      5                              5     1   \n",
      "42                      5                              5     0   \n",
      "43                      5                              5     0   \n",
      "44                      5                              5     0   \n",
      "45                      5                              5     0   \n",
      "46                      4                              6     1   \n",
      "47                      5                              5     0   \n",
      "48                      5                              5     0   \n",
      "49                      5                              5     0   \n",
      "50                      5                              5     0   \n",
      "51                      5                              5     0   \n",
      "52                      5                              5     0   \n",
      "53                      5                              4     0   \n",
      "54                      5                              5     0   \n",
      "55                      5                              4     0   \n",
      "56                      5                              5     0   \n",
      "\n",
      "    team_net_empty  opponent_net_empty  scoredifferential  shot_assist  \\\n",
      "0                0                   0                  0            0   \n",
      "1                0                   0                  3            0   \n",
      "2                0                   0                  2            1   \n",
      "3                0                   0                  3            0   \n",
      "4                0                   0                 -2            0   \n",
      "5                0                   0                  3            0   \n",
      "6                0                   0                  3            0   \n",
      "7                0                   0                  2            0   \n",
      "8                0                   0                  2            0   \n",
      "9                1                   0                 -3            0   \n",
      "10               0                   0                  2            0   \n",
      "11               0                   0                  0            0   \n",
      "12               0                   0                  0            0   \n",
      "13               0                   0                  0            0   \n",
      "14               0                   0                  2            0   \n",
      "15               0                   0                 -3            0   \n",
      "16               0                   0                 -2            0   \n",
      "17               0                   0                  0            0   \n",
      "18               1                   0                 -2            0   \n",
      "19               0                   0                 -3            0   \n",
      "20               0                   0                  3            0   \n",
      "21               0                   0                  3            0   \n",
      "22               0                   0                  0            0   \n",
      "23               0                   0                  0            0   \n",
      "24               1                   0                 -2            0   \n",
      "25               0                   0                 -2            0   \n",
      "26               0                   0                  0            0   \n",
      "27               0                   0                  3            0   \n",
      "28               0                   0                 -2            0   \n",
      "29               1                   0                  2            0   \n",
      "30               0                   0                  2            0   \n",
      "31               0                   0                  3            0   \n",
      "32               0                   0                  1            0   \n",
      "33               0                   0                  3            0   \n",
      "34               0                   0                 -2            0   \n",
      "35               1                   0                 -2            0   \n",
      "36               0                   0                  3            0   \n",
      "37               0                   0                  3            0   \n",
      "38               0                   0                  3            0   \n",
      "39               0                   0                  0            0   \n",
      "40               0                   0                 -1            0   \n",
      "41               0                   0                  0            0   \n",
      "42               0                   0                  3            1   \n",
      "43               0                   0                  0            0   \n",
      "44               0                   0                  3            0   \n",
      "45               0                   0                  2            0   \n",
      "46               0                   1                  2            0   \n",
      "47               0                   0                  3            0   \n",
      "48               0                   0                  0            0   \n",
      "49               0                   0                 -2            0   \n",
      "50               0                   0                 -3            0   \n",
      "51               0                   0                 -2            0   \n",
      "52               0                   0                 -3            0   \n",
      "53               0                   0                 -3            0   \n",
      "54               0                   0                  3            0   \n",
      "55               0                   0                 -3            0   \n",
      "56               0                   0                 -2            0   \n",
      "\n",
      "          xg  \n",
      "0   0.033468  \n",
      "1   0.119066  \n",
      "2   0.114808  \n",
      "3   0.041450  \n",
      "4   0.138980  \n",
      "5   0.041363  \n",
      "6   0.069275  \n",
      "7   0.003050  \n",
      "8   0.109961  \n",
      "9   0.087426  \n",
      "10  0.038445  \n",
      "11  0.406377  \n",
      "12  0.134104  \n",
      "13  0.188982  \n",
      "14  0.005179  \n",
      "15  0.017790  \n",
      "16  0.147573  \n",
      "17  0.039566  \n",
      "18  0.099083  \n",
      "19  0.008854  \n",
      "20  0.214988  \n",
      "21  0.015346  \n",
      "22  0.055500  \n",
      "23  0.006066  \n",
      "24  0.021970  \n",
      "25  0.099929  \n",
      "26  0.204156  \n",
      "27  0.182547  \n",
      "28  0.148214  \n",
      "29  0.105629  \n",
      "30  0.004219  \n",
      "31  0.226710  \n",
      "32  0.484870  \n",
      "33  0.110119  \n",
      "34  0.090407  \n",
      "35  0.062146  \n",
      "36  0.235925  \n",
      "37  0.207372  \n",
      "38  0.290966  \n",
      "39  0.054911  \n",
      "40  0.073630  \n",
      "41  0.125413  \n",
      "42  0.503786  \n",
      "43  0.013471  \n",
      "44  0.322404  \n",
      "45  0.009094  \n",
      "46  0.999535  \n",
      "47  0.011558  \n",
      "48  0.008457  \n",
      "49  0.019313  \n",
      "50  0.078989  \n",
      "51  0.144269  \n",
      "52  0.361430  \n",
      "53  0.058529  \n",
      "54  0.015701  \n",
      "55  0.092183  \n",
      "56  0.113301  \n"
     ]
    }
   ],
   "source": [
    "eventdetails = pd.merge(df,data)\n",
    "print(eventdetails)"
   ]
  },
  {
   "cell_type": "code",
   "execution_count": 151,
   "metadata": {},
   "outputs": [],
   "source": [
    "goals = eventdetails[(eventdetails['goal']==True) & (eventdetails['eventname']=='shot')]"
   ]
  },
  {
   "cell_type": "code",
   "execution_count": 154,
   "metadata": {},
   "outputs": [],
   "source": [
    "max_xg = goals['eventname'].str.split(',', expand=True)[0].str.replace('xG:','').max()"
   ]
  },
  {
   "cell_type": "code",
   "execution_count": 156,
   "metadata": {},
   "outputs": [
    {
     "name": "stdout",
     "output_type": "stream",
     "text": [
      "The highest xG value among the goals that were scored is:0.99 shot\n"
     ]
    }
   ],
   "source": [
    "print('The highest xG value among the goals that were scored is:0.99', max_xg)"
   ]
  },
  {
   "cell_type": "markdown",
   "metadata": {},
   "source": [
    "# 7(b)"
   ]
  },
  {
   "cell_type": "markdown",
   "metadata": {},
   "source": [
    "# It appears that this goal did not have a shot assist as the value of the 'shot_assist' column."
   ]
  },
  {
   "cell_type": "markdown",
   "metadata": {},
   "source": [
    "# 8(a)"
   ]
  },
  {
   "cell_type": "code",
   "execution_count": 189,
   "metadata": {},
   "outputs": [
    {
     "ename": "ValueError",
     "evalue": "could not convert string to float: 'pass'",
     "output_type": "error",
     "traceback": [
      "\u001b[1;31m---------------------------------------------------------------------------\u001b[0m",
      "\u001b[1;31mValueError\u001b[0m                                Traceback (most recent call last)",
      "\u001b[1;32m<ipython-input-189-3fd84660cfc2>\u001b[0m in \u001b[0;36m<module>\u001b[1;34m\u001b[0m\n\u001b[0;32m     13\u001b[0m \u001b[1;32mfrom\u001b[0m \u001b[0msklearn\u001b[0m\u001b[1;33m.\u001b[0m\u001b[0mlinear_model\u001b[0m \u001b[1;32mimport\u001b[0m \u001b[0mLogisticRegression\u001b[0m\u001b[1;33m\u001b[0m\u001b[1;33m\u001b[0m\u001b[0m\n\u001b[0;32m     14\u001b[0m \u001b[0mmodel\u001b[0m \u001b[1;33m=\u001b[0m \u001b[0mLogisticRegression\u001b[0m\u001b[1;33m(\u001b[0m\u001b[1;33m)\u001b[0m\u001b[1;33m\u001b[0m\u001b[1;33m\u001b[0m\u001b[0m\n\u001b[1;32m---> 15\u001b[1;33m \u001b[0mmodel\u001b[0m\u001b[1;33m.\u001b[0m\u001b[0mfit\u001b[0m\u001b[1;33m(\u001b[0m\u001b[0mX_train\u001b[0m\u001b[1;33m,\u001b[0m \u001b[0my_train\u001b[0m\u001b[1;33m)\u001b[0m\u001b[1;33m\u001b[0m\u001b[1;33m\u001b[0m\u001b[0m\n\u001b[0m\u001b[0;32m     16\u001b[0m \u001b[1;33m\u001b[0m\u001b[0m\n\u001b[0;32m     17\u001b[0m \u001b[1;31m# evaluate the model\u001b[0m\u001b[1;33m\u001b[0m\u001b[1;33m\u001b[0m\u001b[1;33m\u001b[0m\u001b[0m\n",
      "\u001b[1;32mc:\\users\\ritik\\appdata\\local\\programs\\python\\python38-32\\lib\\site-packages\\sklearn\\linear_model\\_logistic.py\u001b[0m in \u001b[0;36mfit\u001b[1;34m(self, X, y, sample_weight)\u001b[0m\n\u001b[0;32m   1342\u001b[0m             \u001b[0m_dtype\u001b[0m \u001b[1;33m=\u001b[0m \u001b[1;33m[\u001b[0m\u001b[0mnp\u001b[0m\u001b[1;33m.\u001b[0m\u001b[0mfloat64\u001b[0m\u001b[1;33m,\u001b[0m \u001b[0mnp\u001b[0m\u001b[1;33m.\u001b[0m\u001b[0mfloat32\u001b[0m\u001b[1;33m]\u001b[0m\u001b[1;33m\u001b[0m\u001b[1;33m\u001b[0m\u001b[0m\n\u001b[0;32m   1343\u001b[0m \u001b[1;33m\u001b[0m\u001b[0m\n\u001b[1;32m-> 1344\u001b[1;33m         X, y = self._validate_data(X, y, accept_sparse='csr', dtype=_dtype,\n\u001b[0m\u001b[0;32m   1345\u001b[0m                                    \u001b[0morder\u001b[0m\u001b[1;33m=\u001b[0m\u001b[1;34m\"C\"\u001b[0m\u001b[1;33m,\u001b[0m\u001b[1;33m\u001b[0m\u001b[1;33m\u001b[0m\u001b[0m\n\u001b[0;32m   1346\u001b[0m                                    accept_large_sparse=solver != 'liblinear')\n",
      "\u001b[1;32mc:\\users\\ritik\\appdata\\local\\programs\\python\\python38-32\\lib\\site-packages\\sklearn\\base.py\u001b[0m in \u001b[0;36m_validate_data\u001b[1;34m(self, X, y, reset, validate_separately, **check_params)\u001b[0m\n\u001b[0;32m    431\u001b[0m                 \u001b[0my\u001b[0m \u001b[1;33m=\u001b[0m \u001b[0mcheck_array\u001b[0m\u001b[1;33m(\u001b[0m\u001b[0my\u001b[0m\u001b[1;33m,\u001b[0m \u001b[1;33m**\u001b[0m\u001b[0mcheck_y_params\u001b[0m\u001b[1;33m)\u001b[0m\u001b[1;33m\u001b[0m\u001b[1;33m\u001b[0m\u001b[0m\n\u001b[0;32m    432\u001b[0m             \u001b[1;32melse\u001b[0m\u001b[1;33m:\u001b[0m\u001b[1;33m\u001b[0m\u001b[1;33m\u001b[0m\u001b[0m\n\u001b[1;32m--> 433\u001b[1;33m                 \u001b[0mX\u001b[0m\u001b[1;33m,\u001b[0m \u001b[0my\u001b[0m \u001b[1;33m=\u001b[0m \u001b[0mcheck_X_y\u001b[0m\u001b[1;33m(\u001b[0m\u001b[0mX\u001b[0m\u001b[1;33m,\u001b[0m \u001b[0my\u001b[0m\u001b[1;33m,\u001b[0m \u001b[1;33m**\u001b[0m\u001b[0mcheck_params\u001b[0m\u001b[1;33m)\u001b[0m\u001b[1;33m\u001b[0m\u001b[1;33m\u001b[0m\u001b[0m\n\u001b[0m\u001b[0;32m    434\u001b[0m             \u001b[0mout\u001b[0m \u001b[1;33m=\u001b[0m \u001b[0mX\u001b[0m\u001b[1;33m,\u001b[0m \u001b[0my\u001b[0m\u001b[1;33m\u001b[0m\u001b[1;33m\u001b[0m\u001b[0m\n\u001b[0;32m    435\u001b[0m \u001b[1;33m\u001b[0m\u001b[0m\n",
      "\u001b[1;32mc:\\users\\ritik\\appdata\\local\\programs\\python\\python38-32\\lib\\site-packages\\sklearn\\utils\\validation.py\u001b[0m in \u001b[0;36minner_f\u001b[1;34m(*args, **kwargs)\u001b[0m\n\u001b[0;32m     61\u001b[0m             \u001b[0mextra_args\u001b[0m \u001b[1;33m=\u001b[0m \u001b[0mlen\u001b[0m\u001b[1;33m(\u001b[0m\u001b[0margs\u001b[0m\u001b[1;33m)\u001b[0m \u001b[1;33m-\u001b[0m \u001b[0mlen\u001b[0m\u001b[1;33m(\u001b[0m\u001b[0mall_args\u001b[0m\u001b[1;33m)\u001b[0m\u001b[1;33m\u001b[0m\u001b[1;33m\u001b[0m\u001b[0m\n\u001b[0;32m     62\u001b[0m             \u001b[1;32mif\u001b[0m \u001b[0mextra_args\u001b[0m \u001b[1;33m<=\u001b[0m \u001b[1;36m0\u001b[0m\u001b[1;33m:\u001b[0m\u001b[1;33m\u001b[0m\u001b[1;33m\u001b[0m\u001b[0m\n\u001b[1;32m---> 63\u001b[1;33m                 \u001b[1;32mreturn\u001b[0m \u001b[0mf\u001b[0m\u001b[1;33m(\u001b[0m\u001b[1;33m*\u001b[0m\u001b[0margs\u001b[0m\u001b[1;33m,\u001b[0m \u001b[1;33m**\u001b[0m\u001b[0mkwargs\u001b[0m\u001b[1;33m)\u001b[0m\u001b[1;33m\u001b[0m\u001b[1;33m\u001b[0m\u001b[0m\n\u001b[0m\u001b[0;32m     64\u001b[0m \u001b[1;33m\u001b[0m\u001b[0m\n\u001b[0;32m     65\u001b[0m             \u001b[1;31m# extra_args > 0\u001b[0m\u001b[1;33m\u001b[0m\u001b[1;33m\u001b[0m\u001b[1;33m\u001b[0m\u001b[0m\n",
      "\u001b[1;32mc:\\users\\ritik\\appdata\\local\\programs\\python\\python38-32\\lib\\site-packages\\sklearn\\utils\\validation.py\u001b[0m in \u001b[0;36mcheck_X_y\u001b[1;34m(X, y, accept_sparse, accept_large_sparse, dtype, order, copy, force_all_finite, ensure_2d, allow_nd, multi_output, ensure_min_samples, ensure_min_features, y_numeric, estimator)\u001b[0m\n\u001b[0;32m    869\u001b[0m         \u001b[1;32mraise\u001b[0m \u001b[0mValueError\u001b[0m\u001b[1;33m(\u001b[0m\u001b[1;34m\"y cannot be None\"\u001b[0m\u001b[1;33m)\u001b[0m\u001b[1;33m\u001b[0m\u001b[1;33m\u001b[0m\u001b[0m\n\u001b[0;32m    870\u001b[0m \u001b[1;33m\u001b[0m\u001b[0m\n\u001b[1;32m--> 871\u001b[1;33m     X = check_array(X, accept_sparse=accept_sparse,\n\u001b[0m\u001b[0;32m    872\u001b[0m                     \u001b[0maccept_large_sparse\u001b[0m\u001b[1;33m=\u001b[0m\u001b[0maccept_large_sparse\u001b[0m\u001b[1;33m,\u001b[0m\u001b[1;33m\u001b[0m\u001b[1;33m\u001b[0m\u001b[0m\n\u001b[0;32m    873\u001b[0m                     \u001b[0mdtype\u001b[0m\u001b[1;33m=\u001b[0m\u001b[0mdtype\u001b[0m\u001b[1;33m,\u001b[0m \u001b[0morder\u001b[0m\u001b[1;33m=\u001b[0m\u001b[0morder\u001b[0m\u001b[1;33m,\u001b[0m \u001b[0mcopy\u001b[0m\u001b[1;33m=\u001b[0m\u001b[0mcopy\u001b[0m\u001b[1;33m,\u001b[0m\u001b[1;33m\u001b[0m\u001b[1;33m\u001b[0m\u001b[0m\n",
      "\u001b[1;32mc:\\users\\ritik\\appdata\\local\\programs\\python\\python38-32\\lib\\site-packages\\sklearn\\utils\\validation.py\u001b[0m in \u001b[0;36minner_f\u001b[1;34m(*args, **kwargs)\u001b[0m\n\u001b[0;32m     61\u001b[0m             \u001b[0mextra_args\u001b[0m \u001b[1;33m=\u001b[0m \u001b[0mlen\u001b[0m\u001b[1;33m(\u001b[0m\u001b[0margs\u001b[0m\u001b[1;33m)\u001b[0m \u001b[1;33m-\u001b[0m \u001b[0mlen\u001b[0m\u001b[1;33m(\u001b[0m\u001b[0mall_args\u001b[0m\u001b[1;33m)\u001b[0m\u001b[1;33m\u001b[0m\u001b[1;33m\u001b[0m\u001b[0m\n\u001b[0;32m     62\u001b[0m             \u001b[1;32mif\u001b[0m \u001b[0mextra_args\u001b[0m \u001b[1;33m<=\u001b[0m \u001b[1;36m0\u001b[0m\u001b[1;33m:\u001b[0m\u001b[1;33m\u001b[0m\u001b[1;33m\u001b[0m\u001b[0m\n\u001b[1;32m---> 63\u001b[1;33m                 \u001b[1;32mreturn\u001b[0m \u001b[0mf\u001b[0m\u001b[1;33m(\u001b[0m\u001b[1;33m*\u001b[0m\u001b[0margs\u001b[0m\u001b[1;33m,\u001b[0m \u001b[1;33m**\u001b[0m\u001b[0mkwargs\u001b[0m\u001b[1;33m)\u001b[0m\u001b[1;33m\u001b[0m\u001b[1;33m\u001b[0m\u001b[0m\n\u001b[0m\u001b[0;32m     64\u001b[0m \u001b[1;33m\u001b[0m\u001b[0m\n\u001b[0;32m     65\u001b[0m             \u001b[1;31m# extra_args > 0\u001b[0m\u001b[1;33m\u001b[0m\u001b[1;33m\u001b[0m\u001b[1;33m\u001b[0m\u001b[0m\n",
      "\u001b[1;32mc:\\users\\ritik\\appdata\\local\\programs\\python\\python38-32\\lib\\site-packages\\sklearn\\utils\\validation.py\u001b[0m in \u001b[0;36mcheck_array\u001b[1;34m(array, accept_sparse, accept_large_sparse, dtype, order, copy, force_all_finite, ensure_2d, allow_nd, ensure_min_samples, ensure_min_features, estimator)\u001b[0m\n\u001b[0;32m    671\u001b[0m                     \u001b[0marray\u001b[0m \u001b[1;33m=\u001b[0m \u001b[0marray\u001b[0m\u001b[1;33m.\u001b[0m\u001b[0mastype\u001b[0m\u001b[1;33m(\u001b[0m\u001b[0mdtype\u001b[0m\u001b[1;33m,\u001b[0m \u001b[0mcasting\u001b[0m\u001b[1;33m=\u001b[0m\u001b[1;34m\"unsafe\"\u001b[0m\u001b[1;33m,\u001b[0m \u001b[0mcopy\u001b[0m\u001b[1;33m=\u001b[0m\u001b[1;32mFalse\u001b[0m\u001b[1;33m)\u001b[0m\u001b[1;33m\u001b[0m\u001b[1;33m\u001b[0m\u001b[0m\n\u001b[0;32m    672\u001b[0m                 \u001b[1;32melse\u001b[0m\u001b[1;33m:\u001b[0m\u001b[1;33m\u001b[0m\u001b[1;33m\u001b[0m\u001b[0m\n\u001b[1;32m--> 673\u001b[1;33m                     \u001b[0marray\u001b[0m \u001b[1;33m=\u001b[0m \u001b[0mnp\u001b[0m\u001b[1;33m.\u001b[0m\u001b[0masarray\u001b[0m\u001b[1;33m(\u001b[0m\u001b[0marray\u001b[0m\u001b[1;33m,\u001b[0m \u001b[0morder\u001b[0m\u001b[1;33m=\u001b[0m\u001b[0morder\u001b[0m\u001b[1;33m,\u001b[0m \u001b[0mdtype\u001b[0m\u001b[1;33m=\u001b[0m\u001b[0mdtype\u001b[0m\u001b[1;33m)\u001b[0m\u001b[1;33m\u001b[0m\u001b[1;33m\u001b[0m\u001b[0m\n\u001b[0m\u001b[0;32m    674\u001b[0m             \u001b[1;32mexcept\u001b[0m \u001b[0mComplexWarning\u001b[0m \u001b[1;32mas\u001b[0m \u001b[0mcomplex_warning\u001b[0m\u001b[1;33m:\u001b[0m\u001b[1;33m\u001b[0m\u001b[1;33m\u001b[0m\u001b[0m\n\u001b[0;32m    675\u001b[0m                 raise ValueError(\"Complex data not supported\\n\"\n",
      "\u001b[1;32mc:\\users\\ritik\\appdata\\local\\programs\\python\\python38-32\\lib\\site-packages\\numpy\\core\\_asarray.py\u001b[0m in \u001b[0;36masarray\u001b[1;34m(a, dtype, order)\u001b[0m\n\u001b[0;32m     81\u001b[0m \u001b[1;33m\u001b[0m\u001b[0m\n\u001b[0;32m     82\u001b[0m     \"\"\"\n\u001b[1;32m---> 83\u001b[1;33m     \u001b[1;32mreturn\u001b[0m \u001b[0marray\u001b[0m\u001b[1;33m(\u001b[0m\u001b[0ma\u001b[0m\u001b[1;33m,\u001b[0m \u001b[0mdtype\u001b[0m\u001b[1;33m,\u001b[0m \u001b[0mcopy\u001b[0m\u001b[1;33m=\u001b[0m\u001b[1;32mFalse\u001b[0m\u001b[1;33m,\u001b[0m \u001b[0morder\u001b[0m\u001b[1;33m=\u001b[0m\u001b[0morder\u001b[0m\u001b[1;33m)\u001b[0m\u001b[1;33m\u001b[0m\u001b[1;33m\u001b[0m\u001b[0m\n\u001b[0m\u001b[0;32m     84\u001b[0m \u001b[1;33m\u001b[0m\u001b[0m\n\u001b[0;32m     85\u001b[0m \u001b[1;33m\u001b[0m\u001b[0m\n",
      "\u001b[1;32mc:\\users\\ritik\\appdata\\local\\programs\\python\\python38-32\\lib\\site-packages\\pandas\\core\\generic.py\u001b[0m in \u001b[0;36m__array__\u001b[1;34m(self, dtype)\u001b[0m\n\u001b[0;32m   1776\u001b[0m \u001b[1;33m\u001b[0m\u001b[0m\n\u001b[0;32m   1777\u001b[0m     \u001b[1;32mdef\u001b[0m \u001b[0m__array__\u001b[0m\u001b[1;33m(\u001b[0m\u001b[0mself\u001b[0m\u001b[1;33m,\u001b[0m \u001b[0mdtype\u001b[0m\u001b[1;33m=\u001b[0m\u001b[1;32mNone\u001b[0m\u001b[1;33m)\u001b[0m \u001b[1;33m->\u001b[0m \u001b[0mnp\u001b[0m\u001b[1;33m.\u001b[0m\u001b[0mndarray\u001b[0m\u001b[1;33m:\u001b[0m\u001b[1;33m\u001b[0m\u001b[1;33m\u001b[0m\u001b[0m\n\u001b[1;32m-> 1778\u001b[1;33m         \u001b[1;32mreturn\u001b[0m \u001b[0mnp\u001b[0m\u001b[1;33m.\u001b[0m\u001b[0masarray\u001b[0m\u001b[1;33m(\u001b[0m\u001b[0mself\u001b[0m\u001b[1;33m.\u001b[0m\u001b[0m_values\u001b[0m\u001b[1;33m,\u001b[0m \u001b[0mdtype\u001b[0m\u001b[1;33m=\u001b[0m\u001b[0mdtype\u001b[0m\u001b[1;33m)\u001b[0m\u001b[1;33m\u001b[0m\u001b[1;33m\u001b[0m\u001b[0m\n\u001b[0m\u001b[0;32m   1779\u001b[0m \u001b[1;33m\u001b[0m\u001b[0m\n\u001b[0;32m   1780\u001b[0m     \u001b[1;32mdef\u001b[0m \u001b[0m__array_wrap__\u001b[0m\u001b[1;33m(\u001b[0m\u001b[0mself\u001b[0m\u001b[1;33m,\u001b[0m \u001b[0mresult\u001b[0m\u001b[1;33m,\u001b[0m \u001b[0mcontext\u001b[0m\u001b[1;33m=\u001b[0m\u001b[1;32mNone\u001b[0m\u001b[1;33m)\u001b[0m\u001b[1;33m:\u001b[0m\u001b[1;33m\u001b[0m\u001b[1;33m\u001b[0m\u001b[0m\n",
      "\u001b[1;32mc:\\users\\ritik\\appdata\\local\\programs\\python\\python38-32\\lib\\site-packages\\numpy\\core\\_asarray.py\u001b[0m in \u001b[0;36masarray\u001b[1;34m(a, dtype, order)\u001b[0m\n\u001b[0;32m     81\u001b[0m \u001b[1;33m\u001b[0m\u001b[0m\n\u001b[0;32m     82\u001b[0m     \"\"\"\n\u001b[1;32m---> 83\u001b[1;33m     \u001b[1;32mreturn\u001b[0m \u001b[0marray\u001b[0m\u001b[1;33m(\u001b[0m\u001b[0ma\u001b[0m\u001b[1;33m,\u001b[0m \u001b[0mdtype\u001b[0m\u001b[1;33m,\u001b[0m \u001b[0mcopy\u001b[0m\u001b[1;33m=\u001b[0m\u001b[1;32mFalse\u001b[0m\u001b[1;33m,\u001b[0m \u001b[0morder\u001b[0m\u001b[1;33m=\u001b[0m\u001b[0morder\u001b[0m\u001b[1;33m)\u001b[0m\u001b[1;33m\u001b[0m\u001b[1;33m\u001b[0m\u001b[0m\n\u001b[0m\u001b[0;32m     84\u001b[0m \u001b[1;33m\u001b[0m\u001b[0m\n\u001b[0;32m     85\u001b[0m \u001b[1;33m\u001b[0m\u001b[0m\n",
      "\u001b[1;31mValueError\u001b[0m: could not convert string to float: 'pass'"
     ]
    }
   ],
   "source": [
    "# combine the two datasets\n",
    "combined_dataset = pd.concat([df, data])\n",
    "\n",
    "# split the dataset into features and labels\n",
    "X = combined_dataset.drop('teamskatersonicecount', axis=1)\n",
    "y = combined_dataset['teamskatersonicecount']\n",
    "\n",
    "# split the data into training and testing sets\n",
    "from sklearn.model_selection import train_test_split\n",
    "X_train, X_test, y_train, y_test = train_test_split(X, y, test_size=0.2)\n",
    "\n",
    "# apply logistic regression\n",
    "from sklearn.linear_model import LogisticRegression\n",
    "model = LogisticRegression()\n",
    "model.fit(X_train, y_train)\n",
    "\n",
    "# evaluate the model\n",
    "from sklearn.metrics import accuracy_score\n",
    "y_pred = model.predict(X_test)\n",
    "accuracy = accuracy_score(y_test, y_pred)\n",
    "print(\"Accuracy:\", accuracy)\n"
   ]
  },
  {
   "cell_type": "markdown",
   "metadata": {},
   "source": [
    "# 8(b)"
   ]
  },
  {
   "cell_type": "code",
   "execution_count": null,
   "metadata": {},
   "outputs": [],
   "source": [
    "In question, 8(a) I want to use Logistic regression model because of following reasons. However, I got some error but my main intention to identify the mentioned results: The highest predictors of a goal, I used logistic regression analysis. This technique allows us to analyze the relationship between a binary outcome variable (goal or no goal) and one or more predictor variables.\n",
    "\n",
    "Based on the data available, some possible predictors of a goal include:\n",
    "\n",
    "Shot distance:Generally, shots taken from closer distances to the net are generally more likely to result in goals.\n",
    "Shot angle: Shots taken from certain angles may be more difficult for the goaltender to save, leading to a higher chance of a goal.\n",
    "Shot type: Some types of shots (e.g., wrist shots, slap shots) may be more effective at scoring goals than others.\n",
    "Defenders and goaltender location."
   ]
  }
 ],
 "metadata": {
  "kernelspec": {
   "display_name": "Python 3",
   "language": "python",
   "name": "python3"
  },
  "language_info": {
   "codemirror_mode": {
    "name": "ipython",
    "version": 3
   },
   "file_extension": ".py",
   "mimetype": "text/x-python",
   "name": "python",
   "nbconvert_exporter": "python",
   "pygments_lexer": "ipython3",
   "version": "3.8.5"
  }
 },
 "nbformat": 4,
 "nbformat_minor": 4
}
